{
 "cells": [
  {
   "cell_type": "markdown",
   "id": "343df869",
   "metadata": {
    "tags": []
   },
   "source": [
    "<center>\n",
    "    <img src=\"https://drive.google.com/uc?export=view&id=193xBTXxt8KGygqVxT6-JnCa4FddW2yOg\" width=\"500\"/>\n",
    "</center>\n",
    "\n",
    "<h1 align=center><b>Assignment: REST API and data visualization for weather forecast</b></h1>"
   ]
  },
  {
   "cell_type": "markdown",
   "id": "c1ead0de",
   "metadata": {},
   "source": [
    "#### Class name: ________AI1706______________\n",
    "\n",
    "#### Student code: _________HE173389___________\n",
    "\n",
    "#### Student name: _____Nguyễn Hoàng Thái______\n"
   ]
  },
  {
   "cell_type": "markdown",
   "id": "121f849a",
   "metadata": {},
   "source": [
    "# Introduction\n",
    "\n",
    "Assignment 2 is an individual assignment. To complete the assignment students will need to use the OpenWeatherMap API to get weather forecast information from OpenWeatherMap and answer the corresponding questions.\n",
    "\n",
    "**To complete this assignment you should done the following task:**\n",
    "\n",
    "1.  Import packages library need for other tasks\n",
    "2.  Carefully read about open weather map API\n",
    "3.  Create open weather map account to get API key\n",
    "4.  Using open weather map API to get forecast data\n",
    "5.  Extract forecast data to answer the questions\n",
    "\n",
    "Estimate time: **120** minutes"
   ]
  },
  {
   "cell_type": "code",
   "execution_count": 2,
   "id": "8e9cf95f",
   "metadata": {
    "execution": {
     "iopub.execute_input": "2023-10-30T07:05:16.374376Z",
     "iopub.status.busy": "2023-10-30T07:05:16.372066Z",
     "iopub.status.idle": "2023-10-30T07:05:52.648077Z"
    }
   },
   "outputs": [
    {
     "name": "stderr",
     "output_type": "stream",
     "text": [
      "Installing package into 'C:/Users/admin/scoop/persist/r/site-library'\n",
      "(as 'lib' is unspecified)\n",
      "\n"
     ]
    },
    {
     "name": "stdout",
     "output_type": "stream",
     "text": [
      "package 'httr' successfully unpacked and MD5 sums checked\n",
      "\n",
      "The downloaded binary packages are in\n",
      "\tC:\\Users\\admin\\AppData\\Local\\Temp\\RtmpyeB9WG\\downloaded_packages\n"
     ]
    },
    {
     "name": "stderr",
     "output_type": "stream",
     "text": [
      "Installing package into 'C:/Users/admin/scoop/persist/r/site-library'\n",
      "(as 'lib' is unspecified)\n",
      "\n"
     ]
    },
    {
     "name": "stdout",
     "output_type": "stream",
     "text": [
      "package 'rvest' successfully unpacked and MD5 sums checked\n",
      "\n",
      "The downloaded binary packages are in\n",
      "\tC:\\Users\\admin\\AppData\\Local\\Temp\\RtmpyeB9WG\\downloaded_packages\n"
     ]
    }
   ],
   "source": [
    "# This lab require some library packages. If error happen when running please uncomment lines below to install them:\n",
    "install.packages(\"httr\")\n",
    "install.packages(\"rvest\")"
   ]
  },
  {
   "cell_type": "code",
   "execution_count": 3,
   "id": "785f3cf7",
   "metadata": {
    "execution": {
     "iopub.execute_input": "2023-10-30T07:06:22.004586Z",
     "iopub.status.busy": "2023-10-30T07:06:21.970259Z",
     "iopub.status.idle": "2023-10-30T07:06:22.764948Z"
    }
   },
   "outputs": [
    {
     "name": "stderr",
     "output_type": "stream",
     "text": [
      "Warning message:\n",
      "\"package 'tidyverse' was built under R version 4.3.2\"\n",
      "Warning message:\n",
      "\"package 'readr' was built under R version 4.3.2\"\n",
      "Warning message:\n",
      "\"package 'forcats' was built under R version 4.3.2\"\n",
      "Warning message:\n",
      "\"package 'lubridate' was built under R version 4.3.2\"\n",
      "── \u001b[1mAttaching core tidyverse packages\u001b[22m ──────────────────────── tidyverse 2.0.0 ──\n",
      "\u001b[32m✔\u001b[39m \u001b[34mforcats  \u001b[39m 1.0.0     \u001b[32m✔\u001b[39m \u001b[34mstringr  \u001b[39m 1.5.0\n",
      "\u001b[32m✔\u001b[39m \u001b[34mlubridate\u001b[39m 1.9.3     \u001b[32m✔\u001b[39m \u001b[34mtibble   \u001b[39m 3.2.1\n",
      "\u001b[32m✔\u001b[39m \u001b[34mreadr    \u001b[39m 2.1.4     \u001b[32m✔\u001b[39m \u001b[34mtidyr    \u001b[39m 1.3.0\n",
      "── \u001b[1mConflicts\u001b[22m ────────────────────────────────────────── tidyverse_conflicts() ──\n",
      "\u001b[31m✖\u001b[39m \u001b[34mdplyr\u001b[39m::\u001b[32mfilter()\u001b[39m  masks \u001b[34mstats\u001b[39m::filter()\n",
      "\u001b[31m✖\u001b[39m \u001b[34mpurrr\u001b[39m::\u001b[32mflatten()\u001b[39m masks \u001b[34mjsonlite\u001b[39m::flatten()\n",
      "\u001b[31m✖\u001b[39m \u001b[34mdplyr\u001b[39m::\u001b[32mlag()\u001b[39m     masks \u001b[34mstats\u001b[39m::lag()\n",
      "\u001b[36mℹ\u001b[39m Use the conflicted package (\u001b[3m\u001b[34m<http://conflicted.r-lib.org/>\u001b[39m\u001b[23m) to force all conflicts to become errors\n"
     ]
    }
   ],
   "source": [
    "# import required modules\n",
    "library(jsonlite)\n",
    "library(ggplot2)\n",
    "library(tidyverse)"
   ]
  },
  {
   "cell_type": "markdown",
   "id": "1a97167f",
   "metadata": {},
   "source": [
    "### 1. OpenWeatherMap API\n",
    "**OpenWeatherMap** is an online service, owned by `OpenWeather Ltd`, that provides global weather data via API, including current weather data, forecasts, nowcasts and historical weather data for any geographical location. The company provides a minute-by-minute hyperlocal precipitation forecast for any location. The convolutional machine learning model is used to utilise meteorological broadcast services and data from airport weather stations, on-ground radar stations, weather satellites, remote sensing satellites, METAR and automated weather stations.\n",
    "\n",
    "The company has more than 2 million customers, ranging from independent developers to Fortune 500 companies.\n",
    "\n",
    "The variety of weather APIs provided by OpenWeatherMap have found a significant popularity among the software developers, which resulted in the growing multitude of repositories on GitHub. The APIs support multiple languages, units of measurement and industry standard data formats like JSON and XML.\n",
    "\n",
    "\n",
    "### About the API:\n",
    "OpenWeatherMap provides a range of weather-related products in a variable combination of depth and steps of measurement to millions of clients globally. The product range includes current, historical and forecasted weather data with the granularity as high as 1 minute. The length of the nowcast reaches 2 hours, short-term forecast reaches 16 days and long-term forecast can reach up to 1 year length. Historical weather data goes over 40 years deep. OpenWeather also provides a range of weather maps and weather alert services. Visit following link for more information about open weather map API\n",
    "\n",
    "https://openweathermap.org/api"
   ]
  },
  {
   "cell_type": "markdown",
   "id": "84a75ac0",
   "metadata": {},
   "source": [
    "### 2. Getting API Key\n",
    "\n",
    "OpenWeather platform provide a set of elegant and widely recognisable APIs. Powered by convolutional machine learning solutions, it is capable of delivering all the weather information necessary for decision-making for any location on the globe. To start using the APIs, please **<a href='https://home.openweathermap.org/users/sign_up'>sign up here</a>**.\n",
    "\n",
    "After sign up, visit the following link to get the API Key:\n",
    "https://home.openweathermap.org/api_keys"
   ]
  },
  {
   "cell_type": "code",
   "execution_count": 4,
   "id": "048551fa",
   "metadata": {
    "execution": {
     "iopub.execute_input": "2023-10-30T07:08:06.013943Z",
     "iopub.status.busy": "2023-10-30T07:08:06.011542Z",
     "iopub.status.idle": "2023-10-30T07:08:06.029130Z"
    }
   },
   "outputs": [],
   "source": [
    "# Enter your API key here\n",
    "api_key = \"ac0e1cf1a1f9a8d8b89059422218290d\""
   ]
  },
  {
   "cell_type": "markdown",
   "id": "ce255cc4",
   "metadata": {},
   "source": [
    "### <a id = \"pandas_read\">3. Current weather condition example</a>\n",
    "\n",
    "Replace your API key and run the examplpe code below. You should see the current weather data in Hanoi, VietNam"
   ]
  },
  {
   "cell_type": "code",
   "execution_count": 5,
   "id": "11c1e63d",
   "metadata": {
    "execution": {
     "iopub.execute_input": "2023-10-30T07:08:09.937047Z",
     "iopub.status.busy": "2023-10-30T07:08:09.935284Z",
     "iopub.status.idle": "2023-10-30T07:08:10.123713Z"
    },
    "tags": []
   },
   "outputs": [
    {
     "name": "stdout",
     "output_type": "stream",
     "text": [
      "[1] \"https://api.openweathermap.org/data/2.5/weather?lat=21.0277644&lon=105.8341598&appid=ac0e1cf1a1f9a8d8b89059422218290d\"\n",
      "[1] \"Location: Hanoi\"\n",
      "[1] \"Temperature: 27.94 °C\"\n",
      "[1] \"Humidity: 79 %\"\n",
      "[1] \"Weather condition: few clouds\"\n"
     ]
    }
   ],
   "source": [
    "API_call = \"https://api.openweathermap.org/data/2.5/weather?lat=%s&lon=%s&appid=%s\"\n",
    "lat = 21.0277644\n",
    "lon = 105.8341598\n",
    " \n",
    "complete_url = sprintf(API_call, lat, lon, api_key)\n",
    "print(complete_url)\n",
    "json <- fromJSON(complete_url)\n",
    "\n",
    "print(paste(\"Location:\", json$name))\n",
    "print(paste(\"Temperature:\", json$main$temp - 273.2,\"°C\"))\n",
    "print(paste(\"Humidity:\", json$main$humidity,\"%\"))\n",
    "print(paste(\"Weather condition:\", json$weather$description))\n"
   ]
  },
  {
   "cell_type": "markdown",
   "id": "1e8d8455",
   "metadata": {},
   "source": [
    "### 4. Construct the URL\n",
    "\n",
    "To get the proper API call URL format, please review the list of APIs provided by OpenWeatherMap. Each API will provide a suitable URL to get the corresponding data. \n",
    "\n",
    "For example: The following API URL can only be use to get `current weather` condition.\n",
    "```python\n",
    "API_call = \"https://api.openweathermap.org/data/2.5/weather?lat={lat}&lon={lon}&appid={API key}\"\n",
    "```\n",
    "You should replare `{lat}`, `{lon}`, `{API key}` with appropriate values\n",
    "\n",
    "**Note:** Careful reading API document: https://openweathermap.org/api to find appropriate API for the tasks"
   ]
  },
  {
   "cell_type": "markdown",
   "id": "ea99f279",
   "metadata": {
    "tags": []
   },
   "source": [
    "# Problem\n",
    "\n",
    "### Task 1. Request weather forecast the data\n",
    "Write R code use Open Weather Map API to get forecast data about **5 day / 3 hour at Hanoi, VietNam**. Convert all temperature to Celcius degrees. After this task completed, you should display first 6 rows of a data frame."
   ]
  },
  {
   "cell_type": "code",
   "execution_count": 25,
   "id": "6dc13a39",
   "metadata": {
    "scrolled": true
   },
   "outputs": [
    {
     "data": {
      "text/html": [
       "<table class=\"dataframe\">\n",
       "<caption>A data.frame: 6 × 16</caption>\n",
       "<thead>\n",
       "\t<tr><th></th><th scope=col>id</th><th scope=col>date</th><th scope=col>temp</th><th scope=col>speed</th><th scope=col>weather_conditions</th><th scope=col>main_weather</th><th scope=col>feel</th><th scope=col>min_temp</th><th scope=col>max_temp</th><th scope=col>pressure_level</th><th scope=col>sea</th><th scope=col>grnd</th><th scope=col>humidity_percent</th><th scope=col>temp_kf</th><th scope=col>deg</th><th scope=col>gust</th></tr>\n",
       "\t<tr><th></th><th scope=col>&lt;int&gt;</th><th scope=col>&lt;chr&gt;</th><th scope=col>&lt;dbl&gt;</th><th scope=col>&lt;dbl&gt;</th><th scope=col>&lt;chr&gt;</th><th scope=col>&lt;chr&gt;</th><th scope=col>&lt;dbl&gt;</th><th scope=col>&lt;dbl&gt;</th><th scope=col>&lt;dbl&gt;</th><th scope=col>&lt;int&gt;</th><th scope=col>&lt;int&gt;</th><th scope=col>&lt;int&gt;</th><th scope=col>&lt;int&gt;</th><th scope=col>&lt;dbl&gt;</th><th scope=col>&lt;int&gt;</th><th scope=col>&lt;dbl&gt;</th></tr>\n",
       "</thead>\n",
       "<tbody>\n",
       "\t<tr><th scope=row>1</th><td>801</td><td>2023-11-10 15:00:00</td><td>27.14</td><td>3.55</td><td>few clouds      </td><td>Clouds</td><td>30.06</td><td>25.98</td><td>27.14</td><td>1015</td><td>1015</td><td>1013</td><td>82</td><td>1.16</td><td>156</td><td>7.40</td></tr>\n",
       "\t<tr><th scope=row>2</th><td>801</td><td>2023-11-10 18:00:00</td><td>26.51</td><td>2.85</td><td>few clouds      </td><td>Clouds</td><td>26.51</td><td>25.26</td><td>26.51</td><td>1015</td><td>1015</td><td>1012</td><td>84</td><td>1.25</td><td>139</td><td>5.90</td></tr>\n",
       "\t<tr><th scope=row>3</th><td>801</td><td>2023-11-10 21:00:00</td><td>25.46</td><td>2.24</td><td>few clouds      </td><td>Clouds</td><td>26.34</td><td>24.62</td><td>25.46</td><td>1014</td><td>1014</td><td>1012</td><td>88</td><td>0.84</td><td>132</td><td>4.71</td></tr>\n",
       "\t<tr><th scope=row>4</th><td>801</td><td>2023-11-11 00:00:00</td><td>25.15</td><td>1.78</td><td>few clouds      </td><td>Clouds</td><td>26.00</td><td>25.15</td><td>25.15</td><td>1016</td><td>1016</td><td>1014</td><td>88</td><td>0.00</td><td>117</td><td>3.28</td></tr>\n",
       "\t<tr><th scope=row>5</th><td>802</td><td>2023-11-11 03:00:00</td><td>29.82</td><td>2.77</td><td>scattered clouds</td><td>Clouds</td><td>32.93</td><td>29.82</td><td>29.82</td><td>1016</td><td>1016</td><td>1015</td><td>63</td><td>0.00</td><td>135</td><td>3.46</td></tr>\n",
       "\t<tr><th scope=row>6</th><td>500</td><td>2023-11-11 06:00:00</td><td>31.25</td><td>3.13</td><td>light rain      </td><td>Rain  </td><td>34.00</td><td>31.25</td><td>31.25</td><td>1013</td><td>1013</td><td>1012</td><td>55</td><td>0.00</td><td>139</td><td>3.60</td></tr>\n",
       "</tbody>\n",
       "</table>\n"
      ],
      "text/latex": [
       "A data.frame: 6 × 16\n",
       "\\begin{tabular}{r|llllllllllllllll}\n",
       "  & id & date & temp & speed & weather\\_conditions & main\\_weather & feel & min\\_temp & max\\_temp & pressure\\_level & sea & grnd & humidity\\_percent & temp\\_kf & deg & gust\\\\\n",
       "  & <int> & <chr> & <dbl> & <dbl> & <chr> & <chr> & <dbl> & <dbl> & <dbl> & <int> & <int> & <int> & <int> & <dbl> & <int> & <dbl>\\\\\n",
       "\\hline\n",
       "\t1 & 801 & 2023-11-10 15:00:00 & 27.14 & 3.55 & few clouds       & Clouds & 30.06 & 25.98 & 27.14 & 1015 & 1015 & 1013 & 82 & 1.16 & 156 & 7.40\\\\\n",
       "\t2 & 801 & 2023-11-10 18:00:00 & 26.51 & 2.85 & few clouds       & Clouds & 26.51 & 25.26 & 26.51 & 1015 & 1015 & 1012 & 84 & 1.25 & 139 & 5.90\\\\\n",
       "\t3 & 801 & 2023-11-10 21:00:00 & 25.46 & 2.24 & few clouds       & Clouds & 26.34 & 24.62 & 25.46 & 1014 & 1014 & 1012 & 88 & 0.84 & 132 & 4.71\\\\\n",
       "\t4 & 801 & 2023-11-11 00:00:00 & 25.15 & 1.78 & few clouds       & Clouds & 26.00 & 25.15 & 25.15 & 1016 & 1016 & 1014 & 88 & 0.00 & 117 & 3.28\\\\\n",
       "\t5 & 802 & 2023-11-11 03:00:00 & 29.82 & 2.77 & scattered clouds & Clouds & 32.93 & 29.82 & 29.82 & 1016 & 1016 & 1015 & 63 & 0.00 & 135 & 3.46\\\\\n",
       "\t6 & 500 & 2023-11-11 06:00:00 & 31.25 & 3.13 & light rain       & Rain   & 34.00 & 31.25 & 31.25 & 1013 & 1013 & 1012 & 55 & 0.00 & 139 & 3.60\\\\\n",
       "\\end{tabular}\n"
      ],
      "text/markdown": [
       "\n",
       "A data.frame: 6 × 16\n",
       "\n",
       "| <!--/--> | id &lt;int&gt; | date &lt;chr&gt; | temp &lt;dbl&gt; | speed &lt;dbl&gt; | weather_conditions &lt;chr&gt; | main_weather &lt;chr&gt; | feel &lt;dbl&gt; | min_temp &lt;dbl&gt; | max_temp &lt;dbl&gt; | pressure_level &lt;int&gt; | sea &lt;int&gt; | grnd &lt;int&gt; | humidity_percent &lt;int&gt; | temp_kf &lt;dbl&gt; | deg &lt;int&gt; | gust &lt;dbl&gt; |\n",
       "|---|---|---|---|---|---|---|---|---|---|---|---|---|---|---|---|---|\n",
       "| 1 | 801 | 2023-11-10 15:00:00 | 27.14 | 3.55 | few clouds       | Clouds | 30.06 | 25.98 | 27.14 | 1015 | 1015 | 1013 | 82 | 1.16 | 156 | 7.40 |\n",
       "| 2 | 801 | 2023-11-10 18:00:00 | 26.51 | 2.85 | few clouds       | Clouds | 26.51 | 25.26 | 26.51 | 1015 | 1015 | 1012 | 84 | 1.25 | 139 | 5.90 |\n",
       "| 3 | 801 | 2023-11-10 21:00:00 | 25.46 | 2.24 | few clouds       | Clouds | 26.34 | 24.62 | 25.46 | 1014 | 1014 | 1012 | 88 | 0.84 | 132 | 4.71 |\n",
       "| 4 | 801 | 2023-11-11 00:00:00 | 25.15 | 1.78 | few clouds       | Clouds | 26.00 | 25.15 | 25.15 | 1016 | 1016 | 1014 | 88 | 0.00 | 117 | 3.28 |\n",
       "| 5 | 802 | 2023-11-11 03:00:00 | 29.82 | 2.77 | scattered clouds | Clouds | 32.93 | 29.82 | 29.82 | 1016 | 1016 | 1015 | 63 | 0.00 | 135 | 3.46 |\n",
       "| 6 | 500 | 2023-11-11 06:00:00 | 31.25 | 3.13 | light rain       | Rain   | 34.00 | 31.25 | 31.25 | 1013 | 1013 | 1012 | 55 | 0.00 | 139 | 3.60 |\n",
       "\n"
      ],
      "text/plain": [
       "  id  date                temp  speed weather_conditions main_weather feel \n",
       "1 801 2023-11-10 15:00:00 27.14 3.55  few clouds         Clouds       30.06\n",
       "2 801 2023-11-10 18:00:00 26.51 2.85  few clouds         Clouds       26.51\n",
       "3 801 2023-11-10 21:00:00 25.46 2.24  few clouds         Clouds       26.34\n",
       "4 801 2023-11-11 00:00:00 25.15 1.78  few clouds         Clouds       26.00\n",
       "5 802 2023-11-11 03:00:00 29.82 2.77  scattered clouds   Clouds       32.93\n",
       "6 500 2023-11-11 06:00:00 31.25 3.13  light rain         Rain         34.00\n",
       "  min_temp max_temp pressure_level sea  grnd humidity_percent temp_kf deg gust\n",
       "1 25.98    27.14    1015           1015 1013 82               1.16    156 7.40\n",
       "2 25.26    26.51    1015           1015 1012 84               1.25    139 5.90\n",
       "3 24.62    25.46    1014           1014 1012 88               0.84    132 4.71\n",
       "4 25.15    25.15    1016           1016 1014 88               0.00    117 3.28\n",
       "5 29.82    29.82    1016           1016 1015 63               0.00    135 3.46\n",
       "6 31.25    31.25    1013           1013 1012 55               0.00    139 3.60"
      ]
     },
     "metadata": {},
     "output_type": "display_data"
    }
   ],
   "source": [
    "API_call_forecast = \"https://api.openweathermap.org/data/2.5/forecast?lat=%s&lon=%s&appid=%s\"\n",
    "complete_url_forecast = sprintf(API_call_forecast, lat, lon, api_key)\n",
    "json_forecast <- fromJSON(complete_url_forecast)\n",
    "\n",
    "df1 <- data.frame(\n",
    "  id = sapply(json$list$weather, function(entry) entry$id), \n",
    "  date = json$list$dt_txt,\n",
    "  temp = json$list$main$temp - 273,\n",
    "  speed = json$list$wind$speed,\n",
    "  weather_conditions = sapply(json$list$weather, function(entry) entry$description),\n",
    "  main_weather = sapply(json$list$weather, function(entry) entry$main),                            \n",
    "  feel = json$list$main$feels_like - 273,\n",
    "  min_temp = json$list$main$temp_min - 273,\n",
    "  max_temp = json$list$main$temp_max - 273,\n",
    "  pressure_level = json$list$main$pressure,\n",
    "  sea = json$list$main$sea_level,\n",
    "  grnd = json$list$main$grnd_level,\n",
    "  humidity_percent = json$list$main$humidity,\n",
    "  temp_kf = json$list$main$temp_kf,\n",
    "  deg = json$list$wind$deg,\n",
    "  gust = json$list$wind$gust\n",
    ")\n",
    "\n",
    "head(df1)"
   ]
  },
  {
   "cell_type": "markdown",
   "id": "95bd8969",
   "metadata": {},
   "source": [
    "### Task 2. Plot a line chart to represent temperature over all the data in dataset \n",
    "\n",
    "- The chart should show each line for wind speed and gust level\n",
    "- Each legend should has legend\n",
    "- Set ylabel is `value`.\n",
    "\n",
    "Find the minimum, maximum gust level and time of occurrence."
   ]
  },
  {
   "cell_type": "code",
   "execution_count": 10,
   "id": "fba7a9dd",
   "metadata": {},
   "outputs": [
    {
     "name": "stdout",
     "output_type": "stream",
     "text": [
      "[1] \"Minimum gust level:  1.64  at  2023-11-15 03:00:00\"\n",
      "[1] \"Maximum gust level:  12.28  at  2023-11-13 06:00:00\"\n"
     ]
    },
    {
     "data": {
      "image/png": "[encoded data removed]",
      "text/plain": [
       "plot without title"
      ]
     },
     "metadata": {
      "image/png": {
       "height": 420,
       "width": 420
      }
     },
     "output_type": "display_data"
    }
   ],
   "source": [
    "library(lubridate)\n",
    "\n",
    "df2 <- data.frame(\n",
    "  date = ymd_hms(json_forecast$list$dt_txt),\n",
    "  wind_speed = json_forecast$list$wind$speed,\n",
    "  gust = json_forecast$list$wind$gust\n",
    ")\n",
    "\n",
    "df2 <- df2 %>% ungroup()\n",
    "\n",
    "ggplot(df2, aes(x = date)) +\n",
    "  geom_line(aes(y = wind_speed, color = \"Wind Speed\"), linetype = \"solid\", linewidth = 1) +\n",
    "  geom_line(aes(y = gust, color = \"Gust Level\"), linetype = \"dashed\", linewidth = 1) +\n",
    "  scale_color_manual(values = c(\"Wind Speed\" = \"green\", \"Gust Level\" = \"red\")) +\n",
    "  labs(title = \"Wind Speed and Gust Level over Time\",\n",
    "       x = \"Date\",\n",
    "       y = \"Value\",\n",
    "       color = \"Legend\") +\n",
    "  theme_minimal() +\n",
    "  theme(plot.title = element_text(hjust = 0.5))\n",
    "\n",
    "min_gust <- min(df2$gust, na.rm = TRUE)\n",
    "max_gust <- max(df2$gust, na.rm = TRUE)\n",
    "min_gust_time <- df2$date[which.min(df2$gust)]\n",
    "max_gust_time <- df2$date[which.max(df2$gust)]\n",
    "\n",
    "print(paste(\"Minimum gust level: \", min_gust, \" at \", min_gust_time))\n",
    "print(paste(\"Maximum gust level: \", max_gust, \" at \", max_gust_time))\n"
   ]
  },
  {
   "cell_type": "raw",
   "id": "8b6e22b4",
   "metadata": {},
   "source": [
    "--- Please give your opinion about this chart ---\n",
    "The line chart shows the gust level and wind speed over time. The red lines represent both gust level and wind speed. It appears that there are fluctuations in both variables over the period from October 31 to November 4. This could suggest that the weather conditions were changing during this time. However, without specific context or additional information, it’s difficult to make further interpretations. It’s also important to note that gust level and wind speed can be influenced by a variety of factors, including geographical location, time of year, and weather patterns."
   ]
  },
  {
   "cell_type": "markdown",
   "id": "f43b9ec1",
   "metadata": {},
   "source": [
    "### Task 3. Use a pie chart to show percentages of weather conditions (`description` column)\n",
    "\n",
    "- The chart should has title: `percentages of weather conditions`\n",
    "- Percentage of each conditions should be showed clearly\n"
   ]
  },
  {
   "cell_type": "code",
   "execution_count": 7,
   "id": "c877dc95",
   "metadata": {},
   "outputs": [
    {
     "data": {
      "image/png": "[encoded data removed]",
      "text/plain": [
       "plot without title"
      ]
     },
     "metadata": {
      "image/png": {
       "height": 420,
       "width": 420
      }
     },
     "output_type": "display_data"
    }
   ],
   "source": [
    "library(purrr)\n",
    "\n",
    "df3 <- data.frame(\n",
    "  date = ymd_hms(json_forecast$list$dt_txt),\n",
    "  weather = map_chr(json_forecast$list$weather, ~ .x$description[1])\n",
    ")\n",
    "\n",
    "df_percent <- df3 %>%\n",
    "  group_by(weather) %>%\n",
    "  summarise(n = n()) %>%\n",
    "  mutate(percentage = n / sum(n) * 100)\n",
    "\n",
    "colors <- c(\"#F8766D\", \"#00BA38\", \"#619CFF\", \"#F564E3\", \"#959595\",\n",
    "            \"#E76BF3\", \"#00BFC4\", \"#FF62BC\", \"#FB61D7\", \"#E1D5A6\")\n",
    "\n",
    "ggplot(df_percent, aes(x = \"\", y = percentage, fill = weather)) +\n",
    "  geom_bar(width = 1, stat = \"identity\") +\n",
    "  scale_fill_manual(values = colors) +\n",
    "  coord_polar(\"y\", start = 0) +\n",
    "  theme_void() +\n",
    "  labs(title = \"Percentages of Weather Conditions\", fill = \"Weather Condition\") +\n",
    "  geom_text(aes(label = paste0(round(percentage, 1), \"%\")), position = position_stack(vjust = 0.5), size = 4, color = \"black\") +\n",
    "  theme(plot.title = element_text(hjust = 2, size = 20, face = \"bold\", color = \"black\"),\n",
    "        legend.title = element_text(size = 12, face = \"bold\"),\n",
    "        legend.text = element_text(size = 10))\n",
    "\n"
   ]
  },
  {
   "cell_type": "raw",
   "id": "5c8fb40d",
   "metadata": {},
   "source": [
    "--- Please give your opinion about this chart ---\n",
    "The pie chart provides a clear visual representation of the percentages of different weather conditions. The largest section represents “clear sky” at 30%, followed by “broken clouds” at 27.5%, and “few clouds” at 22.5%. The smallest sections represent “moderate rain”, “overcast clouds”, and other conditions, each constituting a small percentage. This chart effectively illustrates the distribution of weather conditions."
   ]
  },
  {
   "cell_type": "markdown",
   "id": "c2d30fa8",
   "metadata": {},
   "source": [
    "### Task 4. box plots\n",
    "Use box plots to visualize humidity data for the following 4 days."
   ]
  },
  {
   "cell_type": "code",
   "execution_count": 27,
   "id": "8c8c4d19",
   "metadata": {},
   "outputs": [
    {
     "data": {
      "image/png": "[encoded data removed]",
      "text/plain": [
       "plot without title"
      ]
     },
     "metadata": {
      "image/png": {
       "height": 420,
       "width": 420
      }
     },
     "output_type": "display_data"
    }
   ],
   "source": [
    "df4 <- data.frame(\n",
    "  date = ymd_hms(json_forecast$list$dt_txt),\n",
    "  humidity = json_forecast$list$main$humidity\n",
    ")\n",
    "\n",
    "df4 <- df4[df4$date <= min(df4$date) + days(4), ]\n",
    "\n",
    "df4$date <- as.Date(df4$date)\n",
    "df4$date <- as.factor(df4$date)\n",
    "\n",
    "colors <- c(\"#F8766D\", \"#00BA38\", \"#619CFF\", \"#F564E3\", \"#959595\",\n",
    "            \"#E76BF3\", \"#00BFC4\", \"#FF62BC\", \"#FB61D7\", \"#E1D5A6\")\n",
    "\n",
    "ggplot(df4, aes(x = date, y = humidity)) +\n",
    "  geom_boxplot(aes(fill = date)) +\n",
    "  scale_fill_manual(values = colors) +\n",
    "  labs(title = \"Humidity Data for the Next 4 Days\",\n",
    "       x = \"Date\",\n",
    "       y = \"Humidity\") +\n",
    "  theme_minimal() +\n",
    "  theme(plot.title = element_text(hjust = 0.5, size = 20, face = \"bold\", color = \"black\"),\n",
    "        axis.title.x = element_text(size = 12, face = \"bold\"),\n",
    "        axis.title.y = element_text(size = 12, face = \"bold\"),\n",
    "        axis.text.x = element_text(size = 10),\n",
    "        axis.text.y = element_text(size = 10))\n"
   ]
  },
  {
   "cell_type": "raw",
   "id": "043bdf5e",
   "metadata": {},
   "source": [
    "--- Please give your opinion about this chart ---\n",
    "The box and whisker plot provides a visual representation of the humidity data for four consecutive days. It appears that the humidity levels fluctuate between approximately 60% and 90%. "
   ]
  },
  {
   "cell_type": "markdown",
   "id": "86e6b953",
   "metadata": {},
   "source": [
    "### Task 5. Scatter chart\n",
    "\n",
    "Use scatter chart to show the correlation between feels-like and air humidity.\n",
    "\n",
    "Please write a comment about this correlation."
   ]
  },
  {
   "cell_type": "code",
   "execution_count": 9,
   "id": "ed5f1fb4",
   "metadata": {},
   "outputs": [
    {
     "data": {
      "image/png": "[encoded data removed]",
      "text/plain": [
       "plot without title"
      ]
     },
     "metadata": {
      "image/png": {
       "height": 420,
       "width": 420
      }
     },
     "output_type": "display_data"
    }
   ],
   "source": [
    "df5 <- data.frame(\n",
    "  feels_like = json_forecast$list$main$feels_like - 273.2,\n",
    "  humidity = json_forecast$list$main$humidity\n",
    ")\n",
    "\n",
    "ggplot(df5, aes(x = feels_like, y = humidity)) +\n",
    "  geom_point(color = \"#F8766D\", size = 3, alpha = 0.6) +\n",
    "  labs(title = \"Correlation between Feels-Like Temperature and Air Humidity\",\n",
    "       x = \"Feels-Like Temperature (°C)\",\n",
    "       y = \"Humidity (%)\") +\n",
    "  theme_minimal() +\n",
    "  theme(plot.title = element_text(hjust = 0.5, size = 20, face = \"bold\", color = \"black\"),\n",
    "        axis.title.x = element_text(size = 12, face = \"bold\"),\n",
    "        axis.title.y = element_text(size = 12, face = \"bold\"),\n",
    "        axis.text.x = element_text(size = 10),\n",
    "        axis.text.y = element_text(size = 10))"
   ]
  },
  {
   "cell_type": "raw",
   "id": "4234c933",
   "metadata": {},
   "source": [
    "--- Please give your opinion about this chart ---\n",
    "\n",
    "The scatter plot shows a negative correlation between feels-like temperature and air humidity. This suggests that as the humidity increases, the feels-like temperature decreases. This could be due to the fact that higher humidity levels can make the air feel cooler."
   ]
  },
  {
   "cell_type": "markdown",
   "id": "6ac82744",
   "metadata": {},
   "source": [
    "## Author\n",
    "\n",
    "#### <a href=\"\" target=\"_blank\">Do Thai Giang</a>\n",
    "\n",
    "## Change Log\n",
    "\n",
    "| Date (YYYY-MM-DD) | Version | Changed By | Change Description              |   \n",
    "| ----------------- | ------- | ---------- | ----------------------------------\n",
    "| 2022-09-28        | 1.0     | Giangdt26  | Create the 1st version          | \n",
    "| 2023-07-18        | 1.1     | Giangdt26  | Add cheat warning!              |\n",
    "| 2023-07-18        | 1.2     | Giangdt26  | Remove min, max in task 2       |\n",
    "| 2023-07-18        | 1.3     | Giangdt26  | Add humidity, pressure in task 2|\n",
    "|                                                      \n",
    "\n",
    "<hr>\n",
    "\n",
    "## <h3 align=\"center\"> © FPT University. All rights reserved. <h3/>\n"
   ]
  }
 ],
 "metadata": {
  "kernelspec": {
   "display_name": "R 4.3.1",
   "language": "R",
   "name": "ir43"
  },
  "language_info": {
   "codemirror_mode": "r",
   "file_extension": ".r",
   "mimetype": "text/x-r-source",
   "name": "R",
   "pygments_lexer": "r",
   "version": "4.3.1"
  }
 },
 "nbformat": 4,
 "nbformat_minor": 5
}
